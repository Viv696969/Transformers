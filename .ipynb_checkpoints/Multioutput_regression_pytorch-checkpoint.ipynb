{
 "cells": [
  {
   "cell_type": "code",
   "execution_count": 1,
   "id": "c58514a4-8026-49a4-85fa-a2b31001653c",
   "metadata": {},
   "outputs": [],
   "source": [
    "import torch"
   ]
  },
  {
   "cell_type": "code",
   "execution_count": 2,
   "id": "f1c7b9fc-7d00-4e86-880d-d0bf2d11f47b",
   "metadata": {},
   "outputs": [],
   "source": [
    "import numpy as np"
   ]
  },
  {
   "cell_type": "code",
   "execution_count": 77,
   "id": "e4a493eb-eb89-4ef3-a3d2-727dd196537e",
   "metadata": {},
   "outputs": [],
   "source": [
    "inputs =np.array( [\n",
    "    [13, 5, 5],\n",
    "    [12, 34, 7],\n",
    "    [9, 16, 42],\n",
    "    [23, 1, 37],\n",
    "    [18, 28, 45],\n",
    "    [5, 33, 10],\n",
    "    [25, 8, 29],\n",
    "    [14, 47, 2],\n",
    "    [40, 19, 21]\n",
    "])"
   ]
  },
  {
   "cell_type": "code",
   "execution_count": 78,
   "id": "43883f3e-b536-42f0-a6af-1c48b444460d",
   "metadata": {},
   "outputs": [],
   "source": [
    "targets=np.array([\n",
    "    [4, 5],\n",
    "    [23, 6],\n",
    "    [15, 8],\n",
    "    [21, 33],\n",
    "    [9, 44],\n",
    "    [28, 2],\n",
    "    [30, 12],\n",
    "    [17, 46],\n",
    "    [38, 1]\n",
    "])"
   ]
  },
  {
   "cell_type": "code",
   "execution_count": 79,
   "id": "eea99371-e998-40db-bba1-1256b52705fa",
   "metadata": {},
   "outputs": [],
   "source": [
    "inputs=torch.tensor(inputs,dtype=torch.float32)\n",
    "targets=torch.tensor(targets,dtype=torch.float32)"
   ]
  },
  {
   "cell_type": "code",
   "execution_count": 80,
   "id": "fd529a4d-30f8-432a-a387-e80d7d6eb901",
   "metadata": {},
   "outputs": [],
   "source": [
    "weights=torch.randn(2,3,requires_grad=True)"
   ]
  },
  {
   "cell_type": "code",
   "execution_count": 81,
   "id": "9ca4ac40-0a9f-42a8-b4da-c523ba710358",
   "metadata": {},
   "outputs": [
    {
     "data": {
      "text/plain": [
       "tensor([[-1.1760,  0.5571, -1.2231],\n",
       "        [-1.0454,  1.3041, -0.5319]], requires_grad=True)"
      ]
     },
     "execution_count": 81,
     "metadata": {},
     "output_type": "execute_result"
    }
   ],
   "source": [
    "weights"
   ]
  },
  {
   "cell_type": "code",
   "execution_count": 82,
   "id": "307294de-439d-4239-8b9f-890ab4b39a77",
   "metadata": {},
   "outputs": [],
   "source": [
    "bias=torch.randn(2,requires_grad=True)"
   ]
  },
  {
   "cell_type": "code",
   "execution_count": 83,
   "id": "d9bc0e01-3e6f-490c-981d-cbbd7673d82e",
   "metadata": {},
   "outputs": [],
   "source": [
    "def model(x):\n",
    "    return x @ weights.t() + bias"
   ]
  },
  {
   "cell_type": "code",
   "execution_count": 84,
   "id": "5a46d7e7-dd1a-4cf4-aa50-05c01ed70d03",
   "metadata": {},
   "outputs": [],
   "source": [
    "preds=model(inputs)"
   ]
  },
  {
   "cell_type": "code",
   "execution_count": 85,
   "id": "fbe5c207-30d2-45f4-b5fd-131b05525896",
   "metadata": {},
   "outputs": [],
   "source": [
    "def loss(target,pred):\n",
    "    diff=pred-target\n",
    "    print(diff)\n",
    "    mse=torch.sum(diff**2)/diff.numel()\n",
    "    return mse"
   ]
  },
  {
   "cell_type": "code",
   "execution_count": 86,
   "id": "d02aba93-aa86-46e5-b176-d8b03a856ec8",
   "metadata": {},
   "outputs": [
    {
     "name": "stdout",
     "output_type": "stream",
     "text": [
      "tensor([[ 23.0885,  15.2410],\n",
      "        [ 27.2025, -21.5599],\n",
      "        [ 68.5114,  19.3952],\n",
      "        [ 93.2162,  75.9326],\n",
      "        [ 70.0792,  50.7499],\n",
      "        [ 28.1971, -29.9777],\n",
      "        [ 90.8835,  43.6392],\n",
      "        [ 10.1965,   0.9177],\n",
      "        [100.6101,  29.7192]], grad_fn=<SubBackward0>)\n"
     ]
    }
   ],
   "source": [
    "loss_value=loss(preds,targets)"
   ]
  },
  {
   "cell_type": "code",
   "execution_count": 87,
   "id": "fc2779d9-c6c0-4ca0-8eed-31d3d9568039",
   "metadata": {},
   "outputs": [],
   "source": [
    "loss_value.backward()"
   ]
  },
  {
   "cell_type": "code",
   "execution_count": 88,
   "id": "51f34f3c-728a-42c1-a2b9-b06dd639931b",
   "metadata": {},
   "outputs": [
    {
     "data": {
      "text/plain": [
       "tensor([[-1247.6455,  -915.5940, -1648.5222],\n",
       "        [ -546.2919,  -124.2298,  -824.9818]])"
      ]
     },
     "execution_count": 88,
     "metadata": {},
     "output_type": "execute_result"
    }
   ],
   "source": [
    "weights.grad"
   ]
  },
  {
   "cell_type": "code",
   "execution_count": 89,
   "id": "df1d6126-4d60-48cf-a8ef-7128e6565e5e",
   "metadata": {},
   "outputs": [
    {
     "data": {
      "text/plain": [
       "tensor([0., 0.])"
      ]
     },
     "execution_count": 89,
     "metadata": {},
     "output_type": "execute_result"
    }
   ],
   "source": [
    "weights.grad.zero_()\n",
    "bias.grad.zero_()"
   ]
  },
  {
   "cell_type": "code",
   "execution_count": 90,
   "id": "5a89b47f-100d-4ded-878c-168a1e09cc23",
   "metadata": {},
   "outputs": [
    {
     "name": "stdout",
     "output_type": "stream",
     "text": [
      "tensor([[ 23.0885,  15.2410],\n",
      "        [ 27.2025, -21.5599],\n",
      "        [ 68.5114,  19.3952],\n",
      "        [ 93.2162,  75.9326],\n",
      "        [ 70.0792,  50.7499],\n",
      "        [ 28.1971, -29.9777],\n",
      "        [ 90.8835,  43.6392],\n",
      "        [ 10.1965,   0.9177],\n",
      "        [100.6101,  29.7192]], grad_fn=<SubBackward0>)\n"
     ]
    }
   ],
   "source": [
    "preds=model(inputs)\n",
    "loss_value=loss(preds,targets)\n",
    "loss_value.backward()"
   ]
  },
  {
   "cell_type": "code",
   "execution_count": 91,
   "id": "955c7e3d-39f8-4d17-b3d9-2005043f7997",
   "metadata": {},
   "outputs": [
    {
     "ename": "AttributeError",
     "evalue": "'NoneType' object has no attribute 'zero_'",
     "output_type": "error",
     "traceback": [
      "\u001b[1;31m---------------------------------------------------------------------------\u001b[0m",
      "\u001b[1;31mAttributeError\u001b[0m                            Traceback (most recent call last)",
      "Cell \u001b[1;32mIn[91], line 4\u001b[0m\n\u001b[0;32m      2\u001b[0m weights\u001b[38;5;241m=\u001b[39mweights\u001b[38;5;241m-\u001b[39mweights\u001b[38;5;241m.\u001b[39mgrad \u001b[38;5;241m*\u001b[39m \u001b[38;5;241m1e-5\u001b[39m\n\u001b[0;32m      3\u001b[0m bias\u001b[38;5;241m=\u001b[39mbias\u001b[38;5;241m-\u001b[39mbias\u001b[38;5;241m.\u001b[39mgrad \u001b[38;5;241m*\u001b[39m \u001b[38;5;241m1e-5\u001b[39m\n\u001b[1;32m----> 4\u001b[0m \u001b[43mweights\u001b[49m\u001b[38;5;241;43m.\u001b[39;49m\u001b[43mgrad\u001b[49m\u001b[38;5;241;43m.\u001b[39;49m\u001b[43mzero_\u001b[49m()\n\u001b[0;32m      5\u001b[0m bias\u001b[38;5;241m.\u001b[39mgrad\u001b[38;5;241m.\u001b[39mzero_()\n",
      "\u001b[1;31mAttributeError\u001b[0m: 'NoneType' object has no attribute 'zero_'"
     ]
    }
   ],
   "source": [
    "with torch.no_grad():\n",
    "    weights=weights-weights.grad * 1e-5\n",
    "    bias=bias-bias.grad * 1e-5\n",
    "    weights.grad.zero_()\n",
    "    bias.grad.zero_()"
   ]
  },
  {
   "cell_type": "code",
   "execution_count": 94,
   "id": "b00eb3db-c380-4aaa-9eea-686175969358",
   "metadata": {},
   "outputs": [
    {
     "name": "stdout",
     "output_type": "stream",
     "text": [
      "tensor([[ 22.7975,  15.1223],\n",
      "        [ 26.6256, -21.7257],\n",
      "        [ 67.5597,  18.9795],\n",
      "        [ 92.3096,  75.5003],\n",
      "        [ 68.8559,  50.2454],\n",
      "        [ 27.6672, -30.1287],\n",
      "        [ 90.0197,  43.2532],\n",
      "        [  9.5580,   0.7661],\n",
      "        [ 99.5903,  29.3036]])\n",
      "Epochs : 0 , Loss : 2825.41162109375\n"
     ]
    },
    {
     "ename": "RuntimeError",
     "evalue": "element 0 of tensors does not require grad and does not have a grad_fn",
     "output_type": "error",
     "traceback": [
      "\u001b[1;31m---------------------------------------------------------------------------\u001b[0m",
      "\u001b[1;31mRuntimeError\u001b[0m                              Traceback (most recent call last)",
      "Cell \u001b[1;32mIn[94], line 5\u001b[0m\n\u001b[0;32m      3\u001b[0m loss_value \u001b[38;5;241m=\u001b[39m loss(preds , targets)\n\u001b[0;32m      4\u001b[0m \u001b[38;5;28mprint\u001b[39m(\u001b[38;5;124mf\u001b[39m\u001b[38;5;124m'\u001b[39m\u001b[38;5;124mEpochs : \u001b[39m\u001b[38;5;132;01m{\u001b[39;00mi\u001b[38;5;132;01m}\u001b[39;00m\u001b[38;5;124m , Loss : \u001b[39m\u001b[38;5;132;01m{\u001b[39;00mloss_value\u001b[38;5;241m.\u001b[39mitem()\u001b[38;5;132;01m}\u001b[39;00m\u001b[38;5;124m'\u001b[39m)\n\u001b[1;32m----> 5\u001b[0m \u001b[43mloss_value\u001b[49m\u001b[38;5;241;43m.\u001b[39;49m\u001b[43mbackward\u001b[49m\u001b[43m(\u001b[49m\u001b[43m)\u001b[49m\n\u001b[0;32m      6\u001b[0m \u001b[38;5;28;01mwith\u001b[39;00m torch\u001b[38;5;241m.\u001b[39mno_grad():\n\u001b[0;32m      7\u001b[0m     w \u001b[38;5;241m-\u001b[39m\u001b[38;5;241m=\u001b[39m w\u001b[38;5;241m.\u001b[39mgrad \u001b[38;5;241m*\u001b[39m \u001b[38;5;241m1e-5\u001b[39m\n",
      "File \u001b[1;32m~\\AppData\\Local\\Programs\\Python\\Python311\\Lib\\site-packages\\torch\\_tensor.py:492\u001b[0m, in \u001b[0;36mTensor.backward\u001b[1;34m(self, gradient, retain_graph, create_graph, inputs)\u001b[0m\n\u001b[0;32m    482\u001b[0m \u001b[38;5;28;01mif\u001b[39;00m has_torch_function_unary(\u001b[38;5;28mself\u001b[39m):\n\u001b[0;32m    483\u001b[0m     \u001b[38;5;28;01mreturn\u001b[39;00m handle_torch_function(\n\u001b[0;32m    484\u001b[0m         Tensor\u001b[38;5;241m.\u001b[39mbackward,\n\u001b[0;32m    485\u001b[0m         (\u001b[38;5;28mself\u001b[39m,),\n\u001b[1;32m   (...)\u001b[0m\n\u001b[0;32m    490\u001b[0m         inputs\u001b[38;5;241m=\u001b[39minputs,\n\u001b[0;32m    491\u001b[0m     )\n\u001b[1;32m--> 492\u001b[0m \u001b[43mtorch\u001b[49m\u001b[38;5;241;43m.\u001b[39;49m\u001b[43mautograd\u001b[49m\u001b[38;5;241;43m.\u001b[39;49m\u001b[43mbackward\u001b[49m\u001b[43m(\u001b[49m\n\u001b[0;32m    493\u001b[0m \u001b[43m    \u001b[49m\u001b[38;5;28;43mself\u001b[39;49m\u001b[43m,\u001b[49m\u001b[43m \u001b[49m\u001b[43mgradient\u001b[49m\u001b[43m,\u001b[49m\u001b[43m \u001b[49m\u001b[43mretain_graph\u001b[49m\u001b[43m,\u001b[49m\u001b[43m \u001b[49m\u001b[43mcreate_graph\u001b[49m\u001b[43m,\u001b[49m\u001b[43m \u001b[49m\u001b[43minputs\u001b[49m\u001b[38;5;241;43m=\u001b[39;49m\u001b[43minputs\u001b[49m\n\u001b[0;32m    494\u001b[0m \u001b[43m\u001b[49m\u001b[43m)\u001b[49m\n",
      "File \u001b[1;32m~\\AppData\\Local\\Programs\\Python\\Python311\\Lib\\site-packages\\torch\\autograd\\__init__.py:251\u001b[0m, in \u001b[0;36mbackward\u001b[1;34m(tensors, grad_tensors, retain_graph, create_graph, grad_variables, inputs)\u001b[0m\n\u001b[0;32m    246\u001b[0m     retain_graph \u001b[38;5;241m=\u001b[39m create_graph\n\u001b[0;32m    248\u001b[0m \u001b[38;5;66;03m# The reason we repeat the same comment below is that\u001b[39;00m\n\u001b[0;32m    249\u001b[0m \u001b[38;5;66;03m# some Python versions print out the first line of a multi-line function\u001b[39;00m\n\u001b[0;32m    250\u001b[0m \u001b[38;5;66;03m# calls in the traceback and some print out the last line\u001b[39;00m\n\u001b[1;32m--> 251\u001b[0m \u001b[43mVariable\u001b[49m\u001b[38;5;241;43m.\u001b[39;49m\u001b[43m_execution_engine\u001b[49m\u001b[38;5;241;43m.\u001b[39;49m\u001b[43mrun_backward\u001b[49m\u001b[43m(\u001b[49m\u001b[43m  \u001b[49m\u001b[38;5;66;43;03m# Calls into the C++ engine to run the backward pass\u001b[39;49;00m\n\u001b[0;32m    252\u001b[0m \u001b[43m    \u001b[49m\u001b[43mtensors\u001b[49m\u001b[43m,\u001b[49m\n\u001b[0;32m    253\u001b[0m \u001b[43m    \u001b[49m\u001b[43mgrad_tensors_\u001b[49m\u001b[43m,\u001b[49m\n\u001b[0;32m    254\u001b[0m \u001b[43m    \u001b[49m\u001b[43mretain_graph\u001b[49m\u001b[43m,\u001b[49m\n\u001b[0;32m    255\u001b[0m \u001b[43m    \u001b[49m\u001b[43mcreate_graph\u001b[49m\u001b[43m,\u001b[49m\n\u001b[0;32m    256\u001b[0m \u001b[43m    \u001b[49m\u001b[43minputs\u001b[49m\u001b[43m,\u001b[49m\n\u001b[0;32m    257\u001b[0m \u001b[43m    \u001b[49m\u001b[43mallow_unreachable\u001b[49m\u001b[38;5;241;43m=\u001b[39;49m\u001b[38;5;28;43;01mTrue\u001b[39;49;00m\u001b[43m,\u001b[49m\n\u001b[0;32m    258\u001b[0m \u001b[43m    \u001b[49m\u001b[43maccumulate_grad\u001b[49m\u001b[38;5;241;43m=\u001b[39;49m\u001b[38;5;28;43;01mTrue\u001b[39;49;00m\u001b[43m,\u001b[49m\n\u001b[0;32m    259\u001b[0m \u001b[43m\u001b[49m\u001b[43m)\u001b[49m\n",
      "\u001b[1;31mRuntimeError\u001b[0m: element 0 of tensors does not require grad and does not have a grad_fn"
     ]
    }
   ],
   "source": [
    "for i in range(20):\n",
    "    preds = model(inputs)\n",
    "    loss_value = loss(preds , targets)\n",
    "    print(f'Epochs : {i} , Loss : {loss_value.item()}')\n",
    "    loss_value.backward()\n",
    "    with torch.no_grad():\n",
    "        w -= w.grad * 1e-5\n",
    "        b -= b.grad * 1e-5\n",
    "    w.grad.zero_()\n",
    "    b.grad.zero_()"
   ]
  },
  {
   "cell_type": "code",
   "execution_count": null,
   "id": "ec01992a-110f-4066-81a8-f28648fa08f7",
   "metadata": {},
   "outputs": [],
   "source": []
  }
 ],
 "metadata": {
  "kernelspec": {
   "display_name": "Python 3 (ipykernel)",
   "language": "python",
   "name": "python3"
  },
  "language_info": {
   "codemirror_mode": {
    "name": "ipython",
    "version": 3
   },
   "file_extension": ".py",
   "mimetype": "text/x-python",
   "name": "python",
   "nbconvert_exporter": "python",
   "pygments_lexer": "ipython3",
   "version": "3.11.5"
  }
 },
 "nbformat": 4,
 "nbformat_minor": 5
}
